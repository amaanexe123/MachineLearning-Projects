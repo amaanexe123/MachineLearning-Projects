{
 "cells": [
  {
   "cell_type": "markdown",
   "id": "69c243ed",
   "metadata": {
    "papermill": {
     "duration": 0.00813,
     "end_time": "2023-05-22T02:20:37.742626",
     "exception": false,
     "start_time": "2023-05-22T02:20:37.734496",
     "status": "completed"
    },
    "tags": []
   },
   "source": []
  },
  {
   "cell_type": "markdown",
   "id": "32606719",
   "metadata": {
    "papermill": {
     "duration": 0.007187,
     "end_time": "2023-05-22T02:20:37.757369",
     "exception": false,
     "start_time": "2023-05-22T02:20:37.750182",
     "status": "completed"
    },
    "tags": []
   },
   "source": [
    "**Importing the libraries**"
   ]
  },
  {
   "cell_type": "code",
   "execution_count": 1,
   "id": "26ae1e59",
   "metadata": {
    "execution": {
     "iopub.execute_input": "2023-05-22T02:20:37.774430Z",
     "iopub.status.busy": "2023-05-22T02:20:37.773729Z",
     "iopub.status.idle": "2023-05-22T02:20:39.069695Z",
     "shell.execute_reply": "2023-05-22T02:20:39.068381Z"
    },
    "papermill": {
     "duration": 1.307328,
     "end_time": "2023-05-22T02:20:39.072201",
     "exception": false,
     "start_time": "2023-05-22T02:20:37.764873",
     "status": "completed"
    },
    "tags": []
   },
   "outputs": [
    {
     "name": "stderr",
     "output_type": "stream",
     "text": [
      "/opt/conda/lib/python3.10/site-packages/scipy/__init__.py:146: UserWarning: A NumPy version >=1.16.5 and <1.23.0 is required for this version of SciPy (detected version 1.23.5\n",
      "  warnings.warn(f\"A NumPy version >={np_minversion} and <{np_maxversion}\"\n"
     ]
    },
    {
     "name": "stdout",
     "output_type": "stream",
     "text": [
      "/kaggle/input/pima-indians-diabetes-database/diabetes.csv\n"
     ]
    }
   ],
   "source": [
    "import numpy as np \n",
    "import pandas as pd \n",
    "from sklearn.preprocessing import StandardScaler\n",
    "from sklearn.model_selection import train_test_split\n",
    "from sklearn import svm\n",
    "from sklearn.metrics import accuracy_score\n",
    "\n",
    "import os\n",
    "for dirname, _, filenames in os.walk('/kaggle/input'):\n",
    "    for filename in filenames:\n",
    "        print(os.path.join(dirname, filename))\n",
    "\n"
   ]
  },
  {
   "cell_type": "markdown",
   "id": "94009be1",
   "metadata": {
    "papermill": {
     "duration": 0.00749,
     "end_time": "2023-05-22T02:20:39.087656",
     "exception": false,
     "start_time": "2023-05-22T02:20:39.080166",
     "status": "completed"
    },
    "tags": []
   },
   "source": [
    "**Reading the data**"
   ]
  },
  {
   "cell_type": "code",
   "execution_count": 2,
   "id": "dc8aa6e2",
   "metadata": {
    "execution": {
     "iopub.execute_input": "2023-05-22T02:20:39.104807Z",
     "iopub.status.busy": "2023-05-22T02:20:39.104414Z",
     "iopub.status.idle": "2023-05-22T02:20:39.157587Z",
     "shell.execute_reply": "2023-05-22T02:20:39.156380Z"
    },
    "papermill": {
     "duration": 0.064569,
     "end_time": "2023-05-22T02:20:39.159862",
     "exception": false,
     "start_time": "2023-05-22T02:20:39.095293",
     "status": "completed"
    },
    "tags": []
   },
   "outputs": [
    {
     "data": {
      "text/html": [
       "<div>\n",
       "<style scoped>\n",
       "    .dataframe tbody tr th:only-of-type {\n",
       "        vertical-align: middle;\n",
       "    }\n",
       "\n",
       "    .dataframe tbody tr th {\n",
       "        vertical-align: top;\n",
       "    }\n",
       "\n",
       "    .dataframe thead th {\n",
       "        text-align: right;\n",
       "    }\n",
       "</style>\n",
       "<table border=\"1\" class=\"dataframe\">\n",
       "  <thead>\n",
       "    <tr style=\"text-align: right;\">\n",
       "      <th></th>\n",
       "      <th>Pregnancies</th>\n",
       "      <th>Glucose</th>\n",
       "      <th>BloodPressure</th>\n",
       "      <th>SkinThickness</th>\n",
       "      <th>Insulin</th>\n",
       "      <th>BMI</th>\n",
       "      <th>DiabetesPedigreeFunction</th>\n",
       "      <th>Age</th>\n",
       "      <th>Outcome</th>\n",
       "    </tr>\n",
       "  </thead>\n",
       "  <tbody>\n",
       "    <tr>\n",
       "      <th>0</th>\n",
       "      <td>6</td>\n",
       "      <td>148</td>\n",
       "      <td>72</td>\n",
       "      <td>35</td>\n",
       "      <td>0</td>\n",
       "      <td>33.6</td>\n",
       "      <td>0.627</td>\n",
       "      <td>50</td>\n",
       "      <td>1</td>\n",
       "    </tr>\n",
       "    <tr>\n",
       "      <th>1</th>\n",
       "      <td>1</td>\n",
       "      <td>85</td>\n",
       "      <td>66</td>\n",
       "      <td>29</td>\n",
       "      <td>0</td>\n",
       "      <td>26.6</td>\n",
       "      <td>0.351</td>\n",
       "      <td>31</td>\n",
       "      <td>0</td>\n",
       "    </tr>\n",
       "    <tr>\n",
       "      <th>2</th>\n",
       "      <td>8</td>\n",
       "      <td>183</td>\n",
       "      <td>64</td>\n",
       "      <td>0</td>\n",
       "      <td>0</td>\n",
       "      <td>23.3</td>\n",
       "      <td>0.672</td>\n",
       "      <td>32</td>\n",
       "      <td>1</td>\n",
       "    </tr>\n",
       "    <tr>\n",
       "      <th>3</th>\n",
       "      <td>1</td>\n",
       "      <td>89</td>\n",
       "      <td>66</td>\n",
       "      <td>23</td>\n",
       "      <td>94</td>\n",
       "      <td>28.1</td>\n",
       "      <td>0.167</td>\n",
       "      <td>21</td>\n",
       "      <td>0</td>\n",
       "    </tr>\n",
       "    <tr>\n",
       "      <th>4</th>\n",
       "      <td>0</td>\n",
       "      <td>137</td>\n",
       "      <td>40</td>\n",
       "      <td>35</td>\n",
       "      <td>168</td>\n",
       "      <td>43.1</td>\n",
       "      <td>2.288</td>\n",
       "      <td>33</td>\n",
       "      <td>1</td>\n",
       "    </tr>\n",
       "  </tbody>\n",
       "</table>\n",
       "</div>"
      ],
      "text/plain": [
       "   Pregnancies  Glucose  BloodPressure  SkinThickness  Insulin   BMI  \\\n",
       "0            6      148             72             35        0  33.6   \n",
       "1            1       85             66             29        0  26.6   \n",
       "2            8      183             64              0        0  23.3   \n",
       "3            1       89             66             23       94  28.1   \n",
       "4            0      137             40             35      168  43.1   \n",
       "\n",
       "   DiabetesPedigreeFunction  Age  Outcome  \n",
       "0                     0.627   50        1  \n",
       "1                     0.351   31        0  \n",
       "2                     0.672   32        1  \n",
       "3                     0.167   21        0  \n",
       "4                     2.288   33        1  "
      ]
     },
     "execution_count": 2,
     "metadata": {},
     "output_type": "execute_result"
    }
   ],
   "source": [
    "data = pd.read_csv(\"/kaggle/input/pima-indians-diabetes-database/diabetes.csv\")\n",
    "data.head()"
   ]
  },
  {
   "cell_type": "markdown",
   "id": "8d15c13a",
   "metadata": {
    "papermill": {
     "duration": 0.00774,
     "end_time": "2023-05-22T02:20:39.175666",
     "exception": false,
     "start_time": "2023-05-22T02:20:39.167926",
     "status": "completed"
    },
    "tags": []
   },
   "source": [
    "**Looking at the number of rows and columns in the data**"
   ]
  },
  {
   "cell_type": "code",
   "execution_count": 3,
   "id": "5f6f26cb",
   "metadata": {
    "execution": {
     "iopub.execute_input": "2023-05-22T02:20:39.193213Z",
     "iopub.status.busy": "2023-05-22T02:20:39.192816Z",
     "iopub.status.idle": "2023-05-22T02:20:39.199720Z",
     "shell.execute_reply": "2023-05-22T02:20:39.198494Z"
    },
    "papermill": {
     "duration": 0.018227,
     "end_time": "2023-05-22T02:20:39.201908",
     "exception": false,
     "start_time": "2023-05-22T02:20:39.183681",
     "status": "completed"
    },
    "tags": []
   },
   "outputs": [
    {
     "data": {
      "text/plain": [
       "(768, 9)"
      ]
     },
     "execution_count": 3,
     "metadata": {},
     "output_type": "execute_result"
    }
   ],
   "source": [
    "data.shape"
   ]
  },
  {
   "cell_type": "markdown",
   "id": "01d19da2",
   "metadata": {
    "papermill": {
     "duration": 0.008045,
     "end_time": "2023-05-22T02:20:39.218229",
     "exception": false,
     "start_time": "2023-05-22T02:20:39.210184",
     "status": "completed"
    },
    "tags": []
   },
   "source": [
    "**Statistical insights from the data**"
   ]
  },
  {
   "cell_type": "code",
   "execution_count": 4,
   "id": "82d10864",
   "metadata": {
    "execution": {
     "iopub.execute_input": "2023-05-22T02:20:39.236514Z",
     "iopub.status.busy": "2023-05-22T02:20:39.235640Z",
     "iopub.status.idle": "2023-05-22T02:20:39.278426Z",
     "shell.execute_reply": "2023-05-22T02:20:39.277398Z"
    },
    "papermill": {
     "duration": 0.054431,
     "end_time": "2023-05-22T02:20:39.280804",
     "exception": false,
     "start_time": "2023-05-22T02:20:39.226373",
     "status": "completed"
    },
    "tags": []
   },
   "outputs": [
    {
     "data": {
      "text/html": [
       "<div>\n",
       "<style scoped>\n",
       "    .dataframe tbody tr th:only-of-type {\n",
       "        vertical-align: middle;\n",
       "    }\n",
       "\n",
       "    .dataframe tbody tr th {\n",
       "        vertical-align: top;\n",
       "    }\n",
       "\n",
       "    .dataframe thead th {\n",
       "        text-align: right;\n",
       "    }\n",
       "</style>\n",
       "<table border=\"1\" class=\"dataframe\">\n",
       "  <thead>\n",
       "    <tr style=\"text-align: right;\">\n",
       "      <th></th>\n",
       "      <th>Pregnancies</th>\n",
       "      <th>Glucose</th>\n",
       "      <th>BloodPressure</th>\n",
       "      <th>SkinThickness</th>\n",
       "      <th>Insulin</th>\n",
       "      <th>BMI</th>\n",
       "      <th>DiabetesPedigreeFunction</th>\n",
       "      <th>Age</th>\n",
       "      <th>Outcome</th>\n",
       "    </tr>\n",
       "  </thead>\n",
       "  <tbody>\n",
       "    <tr>\n",
       "      <th>count</th>\n",
       "      <td>768.000000</td>\n",
       "      <td>768.000000</td>\n",
       "      <td>768.000000</td>\n",
       "      <td>768.000000</td>\n",
       "      <td>768.000000</td>\n",
       "      <td>768.000000</td>\n",
       "      <td>768.000000</td>\n",
       "      <td>768.000000</td>\n",
       "      <td>768.000000</td>\n",
       "    </tr>\n",
       "    <tr>\n",
       "      <th>mean</th>\n",
       "      <td>3.845052</td>\n",
       "      <td>120.894531</td>\n",
       "      <td>69.105469</td>\n",
       "      <td>20.536458</td>\n",
       "      <td>79.799479</td>\n",
       "      <td>31.992578</td>\n",
       "      <td>0.471876</td>\n",
       "      <td>33.240885</td>\n",
       "      <td>0.348958</td>\n",
       "    </tr>\n",
       "    <tr>\n",
       "      <th>std</th>\n",
       "      <td>3.369578</td>\n",
       "      <td>31.972618</td>\n",
       "      <td>19.355807</td>\n",
       "      <td>15.952218</td>\n",
       "      <td>115.244002</td>\n",
       "      <td>7.884160</td>\n",
       "      <td>0.331329</td>\n",
       "      <td>11.760232</td>\n",
       "      <td>0.476951</td>\n",
       "    </tr>\n",
       "    <tr>\n",
       "      <th>min</th>\n",
       "      <td>0.000000</td>\n",
       "      <td>0.000000</td>\n",
       "      <td>0.000000</td>\n",
       "      <td>0.000000</td>\n",
       "      <td>0.000000</td>\n",
       "      <td>0.000000</td>\n",
       "      <td>0.078000</td>\n",
       "      <td>21.000000</td>\n",
       "      <td>0.000000</td>\n",
       "    </tr>\n",
       "    <tr>\n",
       "      <th>25%</th>\n",
       "      <td>1.000000</td>\n",
       "      <td>99.000000</td>\n",
       "      <td>62.000000</td>\n",
       "      <td>0.000000</td>\n",
       "      <td>0.000000</td>\n",
       "      <td>27.300000</td>\n",
       "      <td>0.243750</td>\n",
       "      <td>24.000000</td>\n",
       "      <td>0.000000</td>\n",
       "    </tr>\n",
       "    <tr>\n",
       "      <th>50%</th>\n",
       "      <td>3.000000</td>\n",
       "      <td>117.000000</td>\n",
       "      <td>72.000000</td>\n",
       "      <td>23.000000</td>\n",
       "      <td>30.500000</td>\n",
       "      <td>32.000000</td>\n",
       "      <td>0.372500</td>\n",
       "      <td>29.000000</td>\n",
       "      <td>0.000000</td>\n",
       "    </tr>\n",
       "    <tr>\n",
       "      <th>75%</th>\n",
       "      <td>6.000000</td>\n",
       "      <td>140.250000</td>\n",
       "      <td>80.000000</td>\n",
       "      <td>32.000000</td>\n",
       "      <td>127.250000</td>\n",
       "      <td>36.600000</td>\n",
       "      <td>0.626250</td>\n",
       "      <td>41.000000</td>\n",
       "      <td>1.000000</td>\n",
       "    </tr>\n",
       "    <tr>\n",
       "      <th>max</th>\n",
       "      <td>17.000000</td>\n",
       "      <td>199.000000</td>\n",
       "      <td>122.000000</td>\n",
       "      <td>99.000000</td>\n",
       "      <td>846.000000</td>\n",
       "      <td>67.100000</td>\n",
       "      <td>2.420000</td>\n",
       "      <td>81.000000</td>\n",
       "      <td>1.000000</td>\n",
       "    </tr>\n",
       "  </tbody>\n",
       "</table>\n",
       "</div>"
      ],
      "text/plain": [
       "       Pregnancies     Glucose  BloodPressure  SkinThickness     Insulin  \\\n",
       "count   768.000000  768.000000     768.000000     768.000000  768.000000   \n",
       "mean      3.845052  120.894531      69.105469      20.536458   79.799479   \n",
       "std       3.369578   31.972618      19.355807      15.952218  115.244002   \n",
       "min       0.000000    0.000000       0.000000       0.000000    0.000000   \n",
       "25%       1.000000   99.000000      62.000000       0.000000    0.000000   \n",
       "50%       3.000000  117.000000      72.000000      23.000000   30.500000   \n",
       "75%       6.000000  140.250000      80.000000      32.000000  127.250000   \n",
       "max      17.000000  199.000000     122.000000      99.000000  846.000000   \n",
       "\n",
       "              BMI  DiabetesPedigreeFunction         Age     Outcome  \n",
       "count  768.000000                768.000000  768.000000  768.000000  \n",
       "mean    31.992578                  0.471876   33.240885    0.348958  \n",
       "std      7.884160                  0.331329   11.760232    0.476951  \n",
       "min      0.000000                  0.078000   21.000000    0.000000  \n",
       "25%     27.300000                  0.243750   24.000000    0.000000  \n",
       "50%     32.000000                  0.372500   29.000000    0.000000  \n",
       "75%     36.600000                  0.626250   41.000000    1.000000  \n",
       "max     67.100000                  2.420000   81.000000    1.000000  "
      ]
     },
     "execution_count": 4,
     "metadata": {},
     "output_type": "execute_result"
    }
   ],
   "source": [
    "data.describe()"
   ]
  },
  {
   "cell_type": "markdown",
   "id": "5bd19d79",
   "metadata": {
    "papermill": {
     "duration": 0.008498,
     "end_time": "2023-05-22T02:20:39.298045",
     "exception": false,
     "start_time": "2023-05-22T02:20:39.289547",
     "status": "completed"
    },
    "tags": []
   },
   "source": [
    "**Counting the labels in the data**"
   ]
  },
  {
   "cell_type": "code",
   "execution_count": 5,
   "id": "2e81757d",
   "metadata": {
    "execution": {
     "iopub.execute_input": "2023-05-22T02:20:39.317767Z",
     "iopub.status.busy": "2023-05-22T02:20:39.317387Z",
     "iopub.status.idle": "2023-05-22T02:20:39.328565Z",
     "shell.execute_reply": "2023-05-22T02:20:39.327485Z"
    },
    "papermill": {
     "duration": 0.023934,
     "end_time": "2023-05-22T02:20:39.330820",
     "exception": false,
     "start_time": "2023-05-22T02:20:39.306886",
     "status": "completed"
    },
    "tags": []
   },
   "outputs": [
    {
     "data": {
      "text/plain": [
       "0    500\n",
       "1    268\n",
       "Name: Outcome, dtype: int64"
      ]
     },
     "execution_count": 5,
     "metadata": {},
     "output_type": "execute_result"
    }
   ],
   "source": [
    "data['Outcome'].value_counts()"
   ]
  },
  {
   "cell_type": "code",
   "execution_count": 6,
   "id": "d7e461fe",
   "metadata": {
    "execution": {
     "iopub.execute_input": "2023-05-22T02:20:39.349714Z",
     "iopub.status.busy": "2023-05-22T02:20:39.349345Z",
     "iopub.status.idle": "2023-05-22T02:20:39.374009Z",
     "shell.execute_reply": "2023-05-22T02:20:39.373022Z"
    },
    "papermill": {
     "duration": 0.03672,
     "end_time": "2023-05-22T02:20:39.376305",
     "exception": false,
     "start_time": "2023-05-22T02:20:39.339585",
     "status": "completed"
    },
    "tags": []
   },
   "outputs": [
    {
     "data": {
      "text/html": [
       "<div>\n",
       "<style scoped>\n",
       "    .dataframe tbody tr th:only-of-type {\n",
       "        vertical-align: middle;\n",
       "    }\n",
       "\n",
       "    .dataframe tbody tr th {\n",
       "        vertical-align: top;\n",
       "    }\n",
       "\n",
       "    .dataframe thead th {\n",
       "        text-align: right;\n",
       "    }\n",
       "</style>\n",
       "<table border=\"1\" class=\"dataframe\">\n",
       "  <thead>\n",
       "    <tr style=\"text-align: right;\">\n",
       "      <th></th>\n",
       "      <th>Pregnancies</th>\n",
       "      <th>Glucose</th>\n",
       "      <th>BloodPressure</th>\n",
       "      <th>SkinThickness</th>\n",
       "      <th>Insulin</th>\n",
       "      <th>BMI</th>\n",
       "      <th>DiabetesPedigreeFunction</th>\n",
       "      <th>Age</th>\n",
       "    </tr>\n",
       "    <tr>\n",
       "      <th>Outcome</th>\n",
       "      <th></th>\n",
       "      <th></th>\n",
       "      <th></th>\n",
       "      <th></th>\n",
       "      <th></th>\n",
       "      <th></th>\n",
       "      <th></th>\n",
       "      <th></th>\n",
       "    </tr>\n",
       "  </thead>\n",
       "  <tbody>\n",
       "    <tr>\n",
       "      <th>0</th>\n",
       "      <td>3.298000</td>\n",
       "      <td>109.980000</td>\n",
       "      <td>68.184000</td>\n",
       "      <td>19.664000</td>\n",
       "      <td>68.792000</td>\n",
       "      <td>30.304200</td>\n",
       "      <td>0.429734</td>\n",
       "      <td>31.190000</td>\n",
       "    </tr>\n",
       "    <tr>\n",
       "      <th>1</th>\n",
       "      <td>4.865672</td>\n",
       "      <td>141.257463</td>\n",
       "      <td>70.824627</td>\n",
       "      <td>22.164179</td>\n",
       "      <td>100.335821</td>\n",
       "      <td>35.142537</td>\n",
       "      <td>0.550500</td>\n",
       "      <td>37.067164</td>\n",
       "    </tr>\n",
       "  </tbody>\n",
       "</table>\n",
       "</div>"
      ],
      "text/plain": [
       "         Pregnancies     Glucose  BloodPressure  SkinThickness     Insulin  \\\n",
       "Outcome                                                                      \n",
       "0           3.298000  109.980000      68.184000      19.664000   68.792000   \n",
       "1           4.865672  141.257463      70.824627      22.164179  100.335821   \n",
       "\n",
       "               BMI  DiabetesPedigreeFunction        Age  \n",
       "Outcome                                                  \n",
       "0        30.304200                  0.429734  31.190000  \n",
       "1        35.142537                  0.550500  37.067164  "
      ]
     },
     "execution_count": 6,
     "metadata": {},
     "output_type": "execute_result"
    }
   ],
   "source": [
    "data.groupby('Outcome').mean()"
   ]
  },
  {
   "cell_type": "markdown",
   "id": "10ef912d",
   "metadata": {
    "papermill": {
     "duration": 0.009012,
     "end_time": "2023-05-22T02:20:39.394291",
     "exception": false,
     "start_time": "2023-05-22T02:20:39.385279",
     "status": "completed"
    },
    "tags": []
   },
   "source": [
    "**Dividing the data into dependent and independent features**"
   ]
  },
  {
   "cell_type": "code",
   "execution_count": 7,
   "id": "1a9f780b",
   "metadata": {
    "execution": {
     "iopub.execute_input": "2023-05-22T02:20:39.414994Z",
     "iopub.status.busy": "2023-05-22T02:20:39.414265Z",
     "iopub.status.idle": "2023-05-22T02:20:39.421910Z",
     "shell.execute_reply": "2023-05-22T02:20:39.421098Z"
    },
    "papermill": {
     "duration": 0.020435,
     "end_time": "2023-05-22T02:20:39.424161",
     "exception": false,
     "start_time": "2023-05-22T02:20:39.403726",
     "status": "completed"
    },
    "tags": []
   },
   "outputs": [],
   "source": [
    "X = data.iloc[:, :-1].values\n",
    "Y = data.iloc[:, -1].values"
   ]
  },
  {
   "cell_type": "markdown",
   "id": "8438d874",
   "metadata": {
    "papermill": {
     "duration": 0.008714,
     "end_time": "2023-05-22T02:20:39.441897",
     "exception": false,
     "start_time": "2023-05-22T02:20:39.433183",
     "status": "completed"
    },
    "tags": []
   },
   "source": [
    "**Standardising the data**"
   ]
  },
  {
   "cell_type": "code",
   "execution_count": 8,
   "id": "e0c1eaf7",
   "metadata": {
    "execution": {
     "iopub.execute_input": "2023-05-22T02:20:39.462192Z",
     "iopub.status.busy": "2023-05-22T02:20:39.461450Z",
     "iopub.status.idle": "2023-05-22T02:20:39.470187Z",
     "shell.execute_reply": "2023-05-22T02:20:39.468830Z"
    },
    "papermill": {
     "duration": 0.021583,
     "end_time": "2023-05-22T02:20:39.472509",
     "exception": false,
     "start_time": "2023-05-22T02:20:39.450926",
     "status": "completed"
    },
    "tags": []
   },
   "outputs": [
    {
     "name": "stdout",
     "output_type": "stream",
     "text": [
      "[[ 0.63994726  0.84832379  0.14964075 ...  0.20401277  0.46849198\n",
      "   1.4259954 ]\n",
      " [-0.84488505 -1.12339636 -0.16054575 ... -0.68442195 -0.36506078\n",
      "  -0.19067191]\n",
      " [ 1.23388019  1.94372388 -0.26394125 ... -1.10325546  0.60439732\n",
      "  -0.10558415]\n",
      " ...\n",
      " [ 0.3429808   0.00330087  0.14964075 ... -0.73518964 -0.68519336\n",
      "  -0.27575966]\n",
      " [-0.84488505  0.1597866  -0.47073225 ... -0.24020459 -0.37110101\n",
      "   1.17073215]\n",
      " [-0.84488505 -0.8730192   0.04624525 ... -0.20212881 -0.47378505\n",
      "  -0.87137393]]\n"
     ]
    }
   ],
   "source": [
    "scaler = StandardScaler()\n",
    "standardized_data = scaler.fit(X)\n",
    "standardized_data = scaler.transform(X)\n",
    "print(standardized_data)\n",
    "X = standardized_data"
   ]
  },
  {
   "cell_type": "markdown",
   "id": "75849072",
   "metadata": {
    "papermill": {
     "duration": 0.009503,
     "end_time": "2023-05-22T02:20:39.491354",
     "exception": false,
     "start_time": "2023-05-22T02:20:39.481851",
     "status": "completed"
    },
    "tags": []
   },
   "source": [
    "**Splitting the data into training set and test set**"
   ]
  },
  {
   "cell_type": "code",
   "execution_count": 9,
   "id": "9c08f606",
   "metadata": {
    "execution": {
     "iopub.execute_input": "2023-05-22T02:20:39.512016Z",
     "iopub.status.busy": "2023-05-22T02:20:39.511090Z",
     "iopub.status.idle": "2023-05-22T02:20:39.520043Z",
     "shell.execute_reply": "2023-05-22T02:20:39.519158Z"
    },
    "papermill": {
     "duration": 0.021586,
     "end_time": "2023-05-22T02:20:39.522340",
     "exception": false,
     "start_time": "2023-05-22T02:20:39.500754",
     "status": "completed"
    },
    "tags": []
   },
   "outputs": [],
   "source": [
    "X_train, X_test, Y_train, Y_test = train_test_split(X, Y, test_size = 0.2, stratify = Y, random_state = 2)"
   ]
  },
  {
   "cell_type": "markdown",
   "id": "daa2d808",
   "metadata": {
    "papermill": {
     "duration": 0.008882,
     "end_time": "2023-05-22T02:20:39.540374",
     "exception": false,
     "start_time": "2023-05-22T02:20:39.531492",
     "status": "completed"
    },
    "tags": []
   },
   "source": [
    "**Model Training**"
   ]
  },
  {
   "cell_type": "code",
   "execution_count": 10,
   "id": "72f1aff9",
   "metadata": {
    "execution": {
     "iopub.execute_input": "2023-05-22T02:20:39.560498Z",
     "iopub.status.busy": "2023-05-22T02:20:39.559831Z",
     "iopub.status.idle": "2023-05-22T02:20:39.563942Z",
     "shell.execute_reply": "2023-05-22T02:20:39.563220Z"
    },
    "papermill": {
     "duration": 0.0164,
     "end_time": "2023-05-22T02:20:39.565975",
     "exception": false,
     "start_time": "2023-05-22T02:20:39.549575",
     "status": "completed"
    },
    "tags": []
   },
   "outputs": [],
   "source": [
    "model = svm.SVC(kernel='linear')"
   ]
  },
  {
   "cell_type": "code",
   "execution_count": 11,
   "id": "659388ae",
   "metadata": {
    "execution": {
     "iopub.execute_input": "2023-05-22T02:20:39.586072Z",
     "iopub.status.busy": "2023-05-22T02:20:39.585431Z",
     "iopub.status.idle": "2023-05-22T02:20:39.611787Z",
     "shell.execute_reply": "2023-05-22T02:20:39.610900Z"
    },
    "papermill": {
     "duration": 0.038995,
     "end_time": "2023-05-22T02:20:39.614109",
     "exception": false,
     "start_time": "2023-05-22T02:20:39.575114",
     "status": "completed"
    },
    "tags": []
   },
   "outputs": [
    {
     "data": {
      "text/html": [
       "<style>#sk-container-id-1 {color: black;background-color: white;}#sk-container-id-1 pre{padding: 0;}#sk-container-id-1 div.sk-toggleable {background-color: white;}#sk-container-id-1 label.sk-toggleable__label {cursor: pointer;display: block;width: 100%;margin-bottom: 0;padding: 0.3em;box-sizing: border-box;text-align: center;}#sk-container-id-1 label.sk-toggleable__label-arrow:before {content: \"▸\";float: left;margin-right: 0.25em;color: #696969;}#sk-container-id-1 label.sk-toggleable__label-arrow:hover:before {color: black;}#sk-container-id-1 div.sk-estimator:hover label.sk-toggleable__label-arrow:before {color: black;}#sk-container-id-1 div.sk-toggleable__content {max-height: 0;max-width: 0;overflow: hidden;text-align: left;background-color: #f0f8ff;}#sk-container-id-1 div.sk-toggleable__content pre {margin: 0.2em;color: black;border-radius: 0.25em;background-color: #f0f8ff;}#sk-container-id-1 input.sk-toggleable__control:checked~div.sk-toggleable__content {max-height: 200px;max-width: 100%;overflow: auto;}#sk-container-id-1 input.sk-toggleable__control:checked~label.sk-toggleable__label-arrow:before {content: \"▾\";}#sk-container-id-1 div.sk-estimator input.sk-toggleable__control:checked~label.sk-toggleable__label {background-color: #d4ebff;}#sk-container-id-1 div.sk-label input.sk-toggleable__control:checked~label.sk-toggleable__label {background-color: #d4ebff;}#sk-container-id-1 input.sk-hidden--visually {border: 0;clip: rect(1px 1px 1px 1px);clip: rect(1px, 1px, 1px, 1px);height: 1px;margin: -1px;overflow: hidden;padding: 0;position: absolute;width: 1px;}#sk-container-id-1 div.sk-estimator {font-family: monospace;background-color: #f0f8ff;border: 1px dotted black;border-radius: 0.25em;box-sizing: border-box;margin-bottom: 0.5em;}#sk-container-id-1 div.sk-estimator:hover {background-color: #d4ebff;}#sk-container-id-1 div.sk-parallel-item::after {content: \"\";width: 100%;border-bottom: 1px solid gray;flex-grow: 1;}#sk-container-id-1 div.sk-label:hover label.sk-toggleable__label {background-color: #d4ebff;}#sk-container-id-1 div.sk-serial::before {content: \"\";position: absolute;border-left: 1px solid gray;box-sizing: border-box;top: 0;bottom: 0;left: 50%;z-index: 0;}#sk-container-id-1 div.sk-serial {display: flex;flex-direction: column;align-items: center;background-color: white;padding-right: 0.2em;padding-left: 0.2em;position: relative;}#sk-container-id-1 div.sk-item {position: relative;z-index: 1;}#sk-container-id-1 div.sk-parallel {display: flex;align-items: stretch;justify-content: center;background-color: white;position: relative;}#sk-container-id-1 div.sk-item::before, #sk-container-id-1 div.sk-parallel-item::before {content: \"\";position: absolute;border-left: 1px solid gray;box-sizing: border-box;top: 0;bottom: 0;left: 50%;z-index: -1;}#sk-container-id-1 div.sk-parallel-item {display: flex;flex-direction: column;z-index: 1;position: relative;background-color: white;}#sk-container-id-1 div.sk-parallel-item:first-child::after {align-self: flex-end;width: 50%;}#sk-container-id-1 div.sk-parallel-item:last-child::after {align-self: flex-start;width: 50%;}#sk-container-id-1 div.sk-parallel-item:only-child::after {width: 0;}#sk-container-id-1 div.sk-dashed-wrapped {border: 1px dashed gray;margin: 0 0.4em 0.5em 0.4em;box-sizing: border-box;padding-bottom: 0.4em;background-color: white;}#sk-container-id-1 div.sk-label label {font-family: monospace;font-weight: bold;display: inline-block;line-height: 1.2em;}#sk-container-id-1 div.sk-label-container {text-align: center;}#sk-container-id-1 div.sk-container {/* jupyter's `normalize.less` sets `[hidden] { display: none; }` but bootstrap.min.css set `[hidden] { display: none !important; }` so we also need the `!important` here to be able to override the default hidden behavior on the sphinx rendered scikit-learn.org. See: https://github.com/scikit-learn/scikit-learn/issues/21755 */display: inline-block !important;position: relative;}#sk-container-id-1 div.sk-text-repr-fallback {display: none;}</style><div id=\"sk-container-id-1\" class=\"sk-top-container\"><div class=\"sk-text-repr-fallback\"><pre>SVC(kernel=&#x27;linear&#x27;)</pre><b>In a Jupyter environment, please rerun this cell to show the HTML representation or trust the notebook. <br />On GitHub, the HTML representation is unable to render, please try loading this page with nbviewer.org.</b></div><div class=\"sk-container\" hidden><div class=\"sk-item\"><div class=\"sk-estimator sk-toggleable\"><input class=\"sk-toggleable__control sk-hidden--visually\" id=\"sk-estimator-id-1\" type=\"checkbox\" checked><label for=\"sk-estimator-id-1\" class=\"sk-toggleable__label sk-toggleable__label-arrow\">SVC</label><div class=\"sk-toggleable__content\"><pre>SVC(kernel=&#x27;linear&#x27;)</pre></div></div></div></div></div>"
      ],
      "text/plain": [
       "SVC(kernel='linear')"
      ]
     },
     "execution_count": 11,
     "metadata": {},
     "output_type": "execute_result"
    }
   ],
   "source": [
    "model.fit(X_train, Y_train)"
   ]
  },
  {
   "cell_type": "markdown",
   "id": "45761e2c",
   "metadata": {
    "papermill": {
     "duration": 0.00928,
     "end_time": "2023-05-22T02:20:39.633413",
     "exception": false,
     "start_time": "2023-05-22T02:20:39.624133",
     "status": "completed"
    },
    "tags": []
   },
   "source": [
    "**Checking the accuracy of the training model**"
   ]
  },
  {
   "cell_type": "code",
   "execution_count": 12,
   "id": "ef000b42",
   "metadata": {
    "execution": {
     "iopub.execute_input": "2023-05-22T02:20:39.654258Z",
     "iopub.status.busy": "2023-05-22T02:20:39.653595Z",
     "iopub.status.idle": "2023-05-22T02:20:39.665064Z",
     "shell.execute_reply": "2023-05-22T02:20:39.663876Z"
    },
    "papermill": {
     "duration": 0.024626,
     "end_time": "2023-05-22T02:20:39.667463",
     "exception": false,
     "start_time": "2023-05-22T02:20:39.642837",
     "status": "completed"
    },
    "tags": []
   },
   "outputs": [
    {
     "name": "stdout",
     "output_type": "stream",
     "text": [
      "Accuracy of training data is  78.66449511400651\n"
     ]
    }
   ],
   "source": [
    "X_train_prediction = model.predict(X_train)\n",
    "training_data_accuracy = accuracy_score(X_train_prediction, Y_train)\n",
    "print('Accuracy of training data is ' , training_data_accuracy*100)"
   ]
  },
  {
   "cell_type": "markdown",
   "id": "4f660ded",
   "metadata": {
    "papermill": {
     "duration": 0.009125,
     "end_time": "2023-05-22T02:20:39.686598",
     "exception": false,
     "start_time": "2023-05-22T02:20:39.677473",
     "status": "completed"
    },
    "tags": []
   },
   "source": [
    "**Checking the acccuracy of model on test data**"
   ]
  },
  {
   "cell_type": "code",
   "execution_count": 13,
   "id": "5ddaa4dd",
   "metadata": {
    "execution": {
     "iopub.execute_input": "2023-05-22T02:20:39.707504Z",
     "iopub.status.busy": "2023-05-22T02:20:39.706763Z",
     "iopub.status.idle": "2023-05-22T02:20:39.715017Z",
     "shell.execute_reply": "2023-05-22T02:20:39.713805Z"
    },
    "papermill": {
     "duration": 0.021199,
     "end_time": "2023-05-22T02:20:39.717272",
     "exception": false,
     "start_time": "2023-05-22T02:20:39.696073",
     "status": "completed"
    },
    "tags": []
   },
   "outputs": [
    {
     "name": "stdout",
     "output_type": "stream",
     "text": [
      "Accuracy of test data is  77.27272727272727\n"
     ]
    }
   ],
   "source": [
    "X_test_prediction = model.predict(X_test)\n",
    "test_data_accuracy = accuracy_score(X_test_prediction,Y_test)\n",
    "print('Accuracy of test data is ' , test_data_accuracy*100)"
   ]
  },
  {
   "cell_type": "markdown",
   "id": "3e3fc071",
   "metadata": {
    "papermill": {
     "duration": 0.009425,
     "end_time": "2023-05-22T02:20:39.736392",
     "exception": false,
     "start_time": "2023-05-22T02:20:39.726967",
     "status": "completed"
    },
    "tags": []
   },
   "source": [
    "**Creating a predictive system for predicting diabetes**"
   ]
  },
  {
   "cell_type": "code",
   "execution_count": 14,
   "id": "b2b5500d",
   "metadata": {
    "execution": {
     "iopub.execute_input": "2023-05-22T02:20:39.757686Z",
     "iopub.status.busy": "2023-05-22T02:20:39.756904Z",
     "iopub.status.idle": "2023-05-22T02:20:39.766028Z",
     "shell.execute_reply": "2023-05-22T02:20:39.764721Z"
    },
    "papermill": {
     "duration": 0.022287,
     "end_time": "2023-05-22T02:20:39.768214",
     "exception": false,
     "start_time": "2023-05-22T02:20:39.745927",
     "status": "completed"
    },
    "tags": []
   },
   "outputs": [
    {
     "name": "stdout",
     "output_type": "stream",
     "text": [
      "[0]\n",
      "The patient is not diabetic\n"
     ]
    }
   ],
   "source": [
    "input_data = (1,85,66,29,0,26.6,0.351,31)\n",
    "input_data_as_array = np.asarray(input_data)\n",
    "input_data_reshaped = input_data_as_array.reshape(1,-1)\n",
    "std_data = scaler.transform(input_data_reshaped)\n",
    "prediction = model.predict(std_data)\n",
    "print(prediction)\n",
    "\n",
    "if prediction[0] == 0:\n",
    "    print(\"The patient is not diabetic\")\n",
    "else:\n",
    "     print(\"The patient is diabetic\")"
   ]
  }
 ],
 "metadata": {
  "kernelspec": {
   "display_name": "Python 3",
   "language": "python",
   "name": "python3"
  },
  "language_info": {
   "codemirror_mode": {
    "name": "ipython",
    "version": 3
   },
   "file_extension": ".py",
   "mimetype": "text/x-python",
   "name": "python",
   "nbconvert_exporter": "python",
   "pygments_lexer": "ipython3",
   "version": "3.10.10"
  },
  "papermill": {
   "default_parameters": {},
   "duration": 16.70312,
   "end_time": "2023-05-22T02:20:42.492637",
   "environment_variables": {},
   "exception": null,
   "input_path": "__notebook__.ipynb",
   "output_path": "__notebook__.ipynb",
   "parameters": {},
   "start_time": "2023-05-22T02:20:25.789517",
   "version": "2.4.0"
  }
 },
 "nbformat": 4,
 "nbformat_minor": 5
}
